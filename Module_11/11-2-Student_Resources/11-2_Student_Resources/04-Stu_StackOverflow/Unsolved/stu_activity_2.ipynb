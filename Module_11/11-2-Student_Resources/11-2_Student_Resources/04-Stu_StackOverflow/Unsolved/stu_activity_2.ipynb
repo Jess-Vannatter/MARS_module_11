{
 "cells": [
  {
   "cell_type": "code",
   "execution_count": 1,
   "id": "aa26734e",
   "metadata": {},
   "outputs": [],
   "source": [
    "from splinter import Browser\n",
    "from bs4 import BeautifulSoup\n",
    "from webdriver_manager.chrome import ChromeDriverManager\n",
    "from selenium import webdriver"
   ]
  },
  {
   "cell_type": "code",
   "execution_count": 2,
   "id": "d3eef789",
   "metadata": {},
   "outputs": [],
   "source": [
    "# Set up Splinter\n",
    "executable_path = {'executable_path': ChromeDriverManager().install()}\n",
    "browser = Browser('chrome', **executable_path, headless=False)"
   ]
  },
  {
   "cell_type": "code",
   "execution_count": 3,
   "id": "4fb29bd1",
   "metadata": {},
   "outputs": [],
   "source": [
    " url = \"https://stackoverflow.com/questions/tagged/python?sort=MostVotes&edited=true\""
   ]
  },
  {
   "cell_type": "code",
   "execution_count": 4,
   "id": "54e3b131",
   "metadata": {},
   "outputs": [],
   "source": [
    " browser.visit(url)"
   ]
  },
  {
   "cell_type": "code",
   "execution_count": 5,
   "id": "5a5ac7b4",
   "metadata": {},
   "outputs": [],
   "source": [
    " html = browser.html"
   ]
  },
  {
   "cell_type": "code",
   "execution_count": 6,
   "id": "9fac8e6d",
   "metadata": {},
   "outputs": [],
   "source": [
    "soup = BeautifulSoup(html, 'html.parser')"
   ]
  },
  {
   "cell_type": "code",
   "execution_count": 16,
   "id": "03bf3526",
   "metadata": {},
   "outputs": [],
   "source": [
    " # Find all divs that contain a question\n",
    "question_divs = soup.find_all('div', class_='mln24')"
   ]
  },
  {
   "cell_type": "code",
   "execution_count": 17,
   "id": "046f425a",
   "metadata": {},
   "outputs": [
    {
     "name": "stdout",
     "output_type": "stream",
     "text": [
      "[]\n"
     ]
    }
   ],
   "source": [
    "print(question_divs)"
   ]
  },
  {
   "cell_type": "code",
   "execution_count": 8,
   "id": "19f87c27",
   "metadata": {},
   "outputs": [],
   "source": [
    " question_list = []"
   ]
  },
  {
   "cell_type": "code",
   "execution_count": 9,
   "id": "6c917092",
   "metadata": {},
   "outputs": [],
   "source": [
    "for question in question_divs:\n",
    "    summary = question.find(\"a\", class_=\"question-hyperlink\").text\n",
    "    votes = question.find(\"span\", class_=\"vote-count-post\").text\n",
    "    excerpt = question.find(\"div\", class_=\"excerpt\").text.strip()\n",
    "    question_dict = {}\n",
    "    question_dict[\"summary\"] = summary\n",
    "    question_dict[\"votes\"] = votes\n",
    "    question_dict[\"excerpt\"] = excerpt\n",
    "    question_list.append(question_dict)"
   ]
  },
  {
   "cell_type": "code",
   "execution_count": 10,
   "id": "39123b04",
   "metadata": {},
   "outputs": [
    {
     "data": {
      "text/plain": [
       "[]"
      ]
     },
     "execution_count": 10,
     "metadata": {},
     "output_type": "execute_result"
    }
   ],
   "source": [
    "# The first two entries are duplicates\n",
    "question_list"
   ]
  },
  {
   "cell_type": "code",
   "execution_count": null,
   "id": "e623ff4c",
   "metadata": {},
   "outputs": [],
   "source": []
  },
  {
   "cell_type": "code",
   "execution_count": 11,
   "id": "c1ef518c",
   "metadata": {},
   "outputs": [
    {
     "data": {
      "text/plain": [
       "'\\nQuestions tagged [python]        '"
      ]
     },
     "execution_count": 11,
     "metadata": {},
     "output_type": "execute_result"
    }
   ],
   "source": [
    " soup.find('h1').text"
   ]
  },
  {
   "cell_type": "code",
   "execution_count": 12,
   "id": "e036e865",
   "metadata": {},
   "outputs": [
    {
     "data": {
      "text/plain": [
       "'Questions tagged [python]'"
      ]
     },
     "execution_count": 12,
     "metadata": {},
     "output_type": "execute_result"
    }
   ],
   "source": [
    " soup.find('h1').text.strip()"
   ]
  },
  {
   "cell_type": "code",
   "execution_count": null,
   "id": "beaa18cd",
   "metadata": {},
   "outputs": [],
   "source": []
  }
 ],
 "metadata": {
  "kernelspec": {
   "display_name": "PythonData",
   "language": "python",
   "name": "pythondata"
  },
  "language_info": {
   "codemirror_mode": {
    "name": "ipython",
    "version": 3
   },
   "file_extension": ".py",
   "mimetype": "text/x-python",
   "name": "python",
   "nbconvert_exporter": "python",
   "pygments_lexer": "ipython3",
   "version": "3.9.13"
  }
 },
 "nbformat": 4,
 "nbformat_minor": 5
}
